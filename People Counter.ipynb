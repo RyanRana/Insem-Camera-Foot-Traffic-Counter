{
 "cells": [
  {
   "cell_type": "code",
   "execution_count": null,
   "metadata": {},
   "outputs": [],
   "source": [
    "import cv2\n",
    "import time\n",
    "import seaborn as sns\n",
    "from matplotlib import pyplot as plt\n",
    "%matplotlib inline\n",
    "import urllib.request\n",
    "import time\n",
    "import seaborn as sns\n",
    "import matplotlib\n",
    "from matplotlib import pyplot as plt\n",
    "import pandas as pd\n",
    "import math\n",
    "import datetime\n",
    "%matplotlib inline"
   ]
  },
  {
   "cell_type": "code",
   "execution_count": null,
   "metadata": {},
   "outputs": [],
   "source": [
    "#Insecam Video Files\n",
    "URL = 'http://184.80.5.148/mjpg/video.mjpg'\n",
    "URL = 'http://81.205.59.129:6001/mjpg/video.mjpg'\n",
    "\n",
    "#Reading the current frame with cv2 and matplotlib,\n",
    "cap = cv2.VideoCapture(URL)\n",
    "ret, frame = cap.read()\n",
    "plt.imshow(frame)"
   ]
  },
  {
   "cell_type": "code",
   "execution_count": null,
   "metadata": {},
   "outputs": [],
   "source": [
    "import subprocess #used to launch  programs by generating new processes.\n",
    "resize = cv2.resize(frame, (0,0), fx=0.5, fy=0.5);\n",
    "cv2.imwrite('cam.png', resize) #Writes in a new file.\n",
    "#All images must be reset to make it easier to prosses the image."
   ]
  },
  {
   "cell_type": "code",
   "execution_count": null,
   "metadata": {},
   "outputs": [],
   "source": [
    "#YOLO Datset\n",
    "cmd = \"./darknet detector test cfg/coco.data cfg/yolo.2.0.cfg yolo.2.0.weights cam.png\""
   ]
  },
  {
   "cell_type": "code",
   "execution_count": null,
   "metadata": {},
   "outputs": [],
   "source": [
    "# Decode to UTF-8, split by new line\n",
    "output = subprocess.check_output(cmd.split())\n",
    "output.decode(\"utf-8\").split(\"\\n\")\n",
    "predictions = cv2.imread('predictions.png')\n",
    "plt.imshow(predictions)"
   ]
  },
  {
   "cell_type": "code",
   "execution_count": null,
   "metadata": {},
   "outputs": [],
   "source": [
    "from IPython.display import display, Image, clear_output"
   ]
  },
  {
   "cell_type": "code",
   "execution_count": null,
   "metadata": {},
   "outputs": [],
   "source": [
    "lastMin = time.time()//60\n",
    "firstMin = lastMin\n",
    "numChecks = 0\n",
    "totalPeople = 0\n",
    "xMinute = []\n",
    "yPeople = []\n",
    "last = 0"
   ]
  },
  {
   "cell_type": "code",
   "execution_count": null,
   "metadata": {},
   "outputs": [],
   "source": [
    "while True:\n",
    "    cap = cv2.VideoCapture('http://84.35.225.233:83/SnapshotJPEG?Resolution=640x480&amp;amp;Quality=Clarity&amp;amp;1509566566').read()\n",
    "    cap = cv2.cvtColor(cap, cv2.COLOR_BGR2RGB);\n",
    "    cv2.imwrite('cam.png', cap)"
   ]
  },
  {
   "cell_type": "code",
   "execution_count": null,
   "metadata": {},
   "outputs": [],
   "source": [
    "    currentMin = time.time() // 60"
   ]
  },
  {
   "cell_type": "code",
   "execution_count": null,
   "metadata": {},
   "outputs": [],
   "source": [
    "    # Run command, collect output\n",
    "    cmd = \"./darknet detector test cfg/coco.data cfg/yolo.2.0.cfg yolo.2.0.weights cam.png\"\n",
    "    output = subprocess.check_output(cmd.split())\n",
    "    output = output.decode(\"utf-8\").split(\"\\n\")"
   ]
  },
  {
   "cell_type": "code",
   "execution_count": null,
   "metadata": {},
   "outputs": [],
   "source": [
    "    # Clear IPython plot\n",
    "    clear_output(wait=True)\n",
    "    \n",
    "    # Display predictions, output number of people detected\n",
    "    display(Image('./predictions.png'))\n",
    "    numPeople = len([i.split(\":\")[0] for i in output if i.split(\":\")[0] == 'person'])\n",
    "    display(output[0])\n",
    "    display(\"{} people detected.\".format(numPeople))"
   ]
  },
  {
   "cell_type": "code",
   "execution_count": null,
   "metadata": {},
   "outputs": [],
   "source": [
    "    numChecks += 1\n",
    "    totalPeople += numPeople\n",
    "    currentMin = time.time() // 60\n",
    "    last = time.time()\n",
    "    \n",
    "    # Update graph every minute\n",
    "    if currentMin > lastMin:\n",
    "        xMinute.append(lastMin)\n",
    "        yPeople.append(round(totalPeople/numChecks))\n",
    "        lastMin = currentMin\n",
    "        numChecks = 0\n",
    "        totalPeople = 0"
   ]
  },
  {
   "cell_type": "code",
   "execution_count": null,
   "metadata": {},
   "outputs": [],
   "source": [
    "    # Only plot after first minute, to ensure that data is extant\n",
    "    if currentMin != firstMin:\n",
    "        plt.plot(xMinute, yPeople)\n",
    "        plt.ylim(0, max(yPeople)+1)\n",
    "        display(plt.gcf())"
   ]
  }
 ],
 "metadata": {
  "kernelspec": {
   "display_name": "Python 3",
   "language": "python",
   "name": "python3"
  },
  "language_info": {
   "codemirror_mode": {
    "name": "ipython",
    "version": 3
   },
   "file_extension": ".py",
   "mimetype": "text/x-python",
   "name": "python",
   "nbconvert_exporter": "python",
   "pygments_lexer": "ipython3",
   "version": "3.8.3"
  }
 },
 "nbformat": 4,
 "nbformat_minor": 4
}
